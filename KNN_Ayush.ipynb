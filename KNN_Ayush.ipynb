{
 "cells": [
  {
   "cell_type": "code",
   "execution_count": null,
   "id": "6db1fcd3",
   "metadata": {},
   "outputs": [
    {
     "name": "stderr",
     "output_type": "stream",
     "text": [
      "C:\\Users\\Ayushz\\anaconda3\\Lib\\site-packages\\sklearn\\metrics\\_classification.py:1344: UndefinedMetricWarning: Precision and F-score are ill-defined and being set to 0.0 in labels with no predicted samples. Use `zero_division` parameter to control this behavior.\n",
      "  _warn_prf(average, modifier, msg_start, len(result))\n",
      "C:\\Users\\Ayushz\\anaconda3\\Lib\\site-packages\\sklearn\\metrics\\_classification.py:1344: UndefinedMetricWarning: Recall and F-score are ill-defined and being set to 0.0 in labels with no true samples. Use `zero_division` parameter to control this behavior.\n",
      "  _warn_prf(average, modifier, msg_start, len(result))\n",
      "C:\\Users\\Ayushz\\anaconda3\\Lib\\site-packages\\sklearn\\metrics\\_classification.py:1344: UndefinedMetricWarning: Precision and F-score are ill-defined and being set to 0.0 in labels with no predicted samples. Use `zero_division` parameter to control this behavior.\n",
      "  _warn_prf(average, modifier, msg_start, len(result))\n",
      "C:\\Users\\Ayushz\\anaconda3\\Lib\\site-packages\\sklearn\\metrics\\_classification.py:1344: UndefinedMetricWarning: Recall and F-score are ill-defined and being set to 0.0 in labels with no true samples. Use `zero_division` parameter to control this behavior.\n",
      "  _warn_prf(average, modifier, msg_start, len(result))\n",
      "C:\\Users\\Ayushz\\anaconda3\\Lib\\site-packages\\sklearn\\metrics\\_classification.py:1344: UndefinedMetricWarning: Precision and F-score are ill-defined and being set to 0.0 in labels with no predicted samples. Use `zero_division` parameter to control this behavior.\n",
      "  _warn_prf(average, modifier, msg_start, len(result))\n",
      "C:\\Users\\Ayushz\\anaconda3\\Lib\\site-packages\\sklearn\\metrics\\_classification.py:1344: UndefinedMetricWarning: Recall and F-score are ill-defined and being set to 0.0 in labels with no true samples. Use `zero_division` parameter to control this behavior.\n",
      "  _warn_prf(average, modifier, msg_start, len(result))\n"
     ]
    },
    {
     "name": "stdout",
     "output_type": "stream",
     "text": [
      "Accuracy: 0.00\n",
      "Classification Report:\n",
      "               precision    recall  f1-score   support\n",
      "\n",
      "           0       0.00      0.00      0.00       2.0\n",
      "           1       0.00      0.00      0.00       0.0\n",
      "\n",
      "    accuracy                           0.00       2.0\n",
      "   macro avg       0.00      0.00      0.00       2.0\n",
      "weighted avg       0.00      0.00      0.00       2.0\n",
      "\n",
      "Confusion Matrix:\n",
      " [[0 2]\n",
      " [0 0]]\n"
     ]
    }
   ],
   "source": [
    "import pandas as pd\n",
    "from sklearn.model_selection import train_test_split\n",
    "from sklearn.neighbors import KNeighborsClassifier\n",
    "from sklearn.preprocessing import LabelEncoder\n",
    "from sklearn.metrics import accuracy_score, classification_report, confusion_matrix\n",
    "\n",
    "# Sample data\n",
    "features = {\n",
    "    'Color': ['Red', 'Green', 'Blue', 'Green', 'Red'],\n",
    "    'Type': ['SUV', 'Sedan', 'SUV', 'Truck', 'Sedan'],\n",
    "    'Origin': ['Domestic', 'Imported', 'Imported', 'Domestic', 'Domestic']\n",
    "}\n",
    "\n",
    "labels = {\n",
    "    'Stolen': ['Yes', 'No', 'No', 'Yes', 'No']\n",
    "}\n",
    "\n",
    "# Convert dictionaries to DataFrame and encode categorical variables\n",
    "df_features = pd.DataFrame(features)\n",
    "df_labels = pd.DataFrame(labels)\n",
    "\n",
    "label_encoders = {col: LabelEncoder().fit(df_features[col]) for col in df_features.columns}\n",
    "df_features = df_features.apply(lambda col: label_encoders[col.name].transform(col))\n",
    "\n",
    "stolen_encoder = LabelEncoder().fit(df_labels['Stolen'])\n",
    "df_labels['Stolen'] = stolen_encoder.transform(df_labels['Stolen'])\n",
    "\n",
    "# Split dataset into features and target variable\n",
    "X_train, X_test, y_train, y_test = train_test_split(df_features, df_labels['Stolen'], test_size=0.3, random_state=42)\n",
    "\n",
    "# Create and train KNN classifier\n",
    "knn = KNeighborsClassifier(n_neighbors=3)\n",
    "knn.fit(X_train, y_train)\n",
    "\n",
    "# Evaluate the classifier\n",
    "y_pred = knn.predict(X_test)\n",
    "print(f'Accuracy: {accuracy_score(y_test, y_pred):.2f}')\n",
    "print(\"Classification Report:\\n\", classification_report(y_test, y_pred))\n",
    "print(\"Confusion Matrix:\\n\", confusion_matrix(y_test, y_pred))\n",
    "\n",
    "# Function to predict based on user input\n",
    "def predict_user_input():\n",
    "    while True:\n",
    "        color = input(\"Color (Red, Green, Blue): \")\n",
    "        if color.lower() == 'quit':\n",
    "            break\n",
    "        type_ = input(\"Type (SUV, Sedan, Truck): \")\n",
    "        if type_.lower() == 'quit':\n",
    "            break\n",
    "        origin = input(\"Origin (Domestic, Imported): \")\n",
    "        if origin.lower() == 'quit':\n",
    "            break\n",
    "        \n",
    "        new_data = pd.DataFrame({\n",
    "            'Color': [color],\n",
    "            'Type': [type_],\n",
    "            'Origin': [origin]\n",
    "        }).apply(lambda col: label_encoders[col.name].transform(col))\n",
    "        \n",
    "        prediction = knn.predict(new_data)\n",
    "        print(f'Predicted Stolen: {stolen_encoder.inverse_transform(prediction)[0]}')\n",
    "\n",
    "# Predict based on user input\n",
    "predict_user_input()\n"
   ]
  },
  {
   "cell_type": "code",
   "execution_count": null,
   "id": "ffa14125",
   "metadata": {},
   "outputs": [],
   "source": []
  }
 ],
 "metadata": {
  "kernelspec": {
   "display_name": "Python 3 (ipykernel)",
   "language": "python",
   "name": "python3"
  },
  "language_info": {
   "codemirror_mode": {
    "name": "ipython",
    "version": 3
   },
   "file_extension": ".py",
   "mimetype": "text/x-python",
   "name": "python",
   "nbconvert_exporter": "python",
   "pygments_lexer": "ipython3",
   "version": "3.11.7"
  }
 },
 "nbformat": 4,
 "nbformat_minor": 5
}
